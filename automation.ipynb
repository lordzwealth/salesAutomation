{
  "nbformat": 4,
  "nbformat_minor": 0,
  "metadata": {
    "colab": {
      "provenance": [],
      "authorship_tag": "ABX9TyPoybIKTg/57vO2ZHCtXS1u",
      "include_colab_link": true
    },
    "kernelspec": {
      "name": "python3",
      "display_name": "Python 3"
    },
    "language_info": {
      "name": "python"
    }
  },
  "cells": [
    {
      "cell_type": "markdown",
      "metadata": {
        "id": "view-in-github",
        "colab_type": "text"
      },
      "source": [
        "<a href=\"https://colab.research.google.com/github/lordzwealth/salesAutomation/blob/main/automation.ipynb\" target=\"_parent\"><img src=\"https://colab.research.google.com/assets/colab-badge.svg\" alt=\"Open In Colab\"/></a>"
      ]
    },
    {
      "cell_type": "markdown",
      "source": [
        "A local retail business, dealing with a variety of products, aims to streamline and automate its accounting procedures. The business operates two shifts per day with one worker on each shift. The primary goal is to create a Python project that assists in automating essential accounting tasks, including calculating total sales, worker salaries, profit, tips, and total tips for the day."
      ],
      "metadata": {
        "id": "bqQsuNB0sYiQ"
      }
    },
    {
      "cell_type": "code",
      "source": [
        "# to call all other functions\n",
        "def runAutomation():\n",
        "    while True:\n",
        "        print('\\nSales Automation System')\n",
        "        print('1. Calculate Total Sales')\n",
        "        print(\"2. Calculate Worker's  Salary\")\n",
        "        print('3. Calculate Shift Tips')\n",
        "        print('4. calculate Total Tips')\n",
        "        print('5. Exit')\n",
        "\n",
        "        choice = input('Enter your choice (1-5): ')\n",
        "        if choice == '1':\n",
        "            calcTotalSales()\n",
        "        elif choice == '2':\n",
        "            workerSalary()\n",
        "        elif choice == '3':\n",
        "            calcShiftTips()\n",
        "        elif choice == '4':\n",
        "            calcTotalTips()\n",
        "        elif choice == '5':\n",
        "            break\n",
        "        else:\n",
        "            print('Invalid choice. please enter a number between 1 and 5.')"
      ],
      "metadata": {
        "id": "9wezegf1cRIb"
      },
      "execution_count": 23,
      "outputs": []
    },
    {
      "cell_type": "markdown",
      "source": [
        "\n",
        "\n",
        "1. Calculate Total Sales for the Day: from sales data for morning and evening shifts, produce total sales for the day.\n",
        "\n"
      ],
      "metadata": {
        "id": "boolCNUssdZV"
      }
    },
    {
      "cell_type": "code",
      "source": [
        "# Function to Calculate the Total Sales for the day\n",
        "def calcTotalSales():\n",
        "  #totalSales = morningShiftSales + eveningShiftSales\n",
        "  while True:\n",
        "    try:\n",
        "      morningShiftSales = float(input(\"Morning Shift Sales: $\"))\n",
        "      eveningShiftSales = float(input(\"Evening Shift Sales: $\"))\n",
        "\n",
        "      totalSales = morningShiftSales + eveningShiftSales\n",
        "      print(f\"Total Sales for the day: ${totalSales}\")\n",
        "      break\n",
        "    except:\n",
        "    # if user doesn't input the required data type\n",
        "      print(\"Oops!  That was no valid number.  Try again...\")\n",
        "  #return totalSales"
      ],
      "metadata": {
        "id": "5qrZc_gVuKeP"
      },
      "execution_count": 15,
      "outputs": []
    },
    {
      "cell_type": "code",
      "source": [
        "calcTotalSales()"
      ],
      "metadata": {
        "colab": {
          "base_uri": "https://localhost:8080/"
        },
        "id": "-seb7hzzPD_0",
        "outputId": "4f6e809a-418a-43cb-8704-53284d2a7746"
      },
      "execution_count": 16,
      "outputs": [
        {
          "output_type": "stream",
          "name": "stdout",
          "text": [
            "Morning Shift Sales: $25000\n",
            "Evening Shift Sales: $20000\n",
            "Total Sales for the day: $45000.0\n"
          ]
        }
      ]
    },
    {
      "cell_type": "markdown",
      "source": [
        "2. Calculate Worker's Salary: given hourly rate and hours worked by a worker. retrieve the worker's salary."
      ],
      "metadata": {
        "id": "-UaC0ssnxknh"
      }
    },
    {
      "cell_type": "code",
      "source": [
        "# Function to Calculate Worker's Salary\n",
        "def workerSalary():\n",
        "  while True:\n",
        "    try:\n",
        "      hourlyRate = float(input(\"Kindly input the Hourly Rate ($ per Hour): \"))\n",
        "      hoursWorked = int(input(\"Kindly input number of Hours Worked: \"))\n",
        "\n",
        "      salary = hourlyRate * hoursWorked\n",
        "      print(f\"Hourly Rate: ${hourlyRate}\")\n",
        "      print(f\"Number of Hours Worked: {hoursWorked}\")\n",
        "      print(f\"Worker's Salary: ${salary}\")\n",
        "      break\n",
        "    except:\n",
        "    # if user doesn't input the required data type\n",
        "      print(\"Oops!  That was not a valid number.  Try again...\")\n",
        "  #return salary"
      ],
      "metadata": {
        "id": "XnHJFZafv4eH"
      },
      "execution_count": 18,
      "outputs": []
    },
    {
      "cell_type": "code",
      "source": [
        "workerSalary()"
      ],
      "metadata": {
        "colab": {
          "base_uri": "https://localhost:8080/"
        },
        "id": "ovpBfJwzPYgH",
        "outputId": "b48ddba9-3036-45c7-c8a9-8a4d16bf7439"
      },
      "execution_count": 19,
      "outputs": [
        {
          "output_type": "stream",
          "name": "stdout",
          "text": [
            "Kindly input the Hourly Rate ($ per Hour): 500\n",
            "Kindly input number of Hours Worked: 10\n",
            "Hourly Rate: $500.0\n",
            "Number of Hours Worked: 10\n",
            "Worker's Salary: $5000.0\n"
          ]
        }
      ]
    },
    {
      "cell_type": "markdown",
      "source": [
        "3. Calculate Profit: given a list of numbers representing total sales and total cost of items sold, find the profit.(or loss if negative)"
      ],
      "metadata": {
        "id": "uIklnkimzkBM"
      }
    },
    {
      "cell_type": "code",
      "source": [
        "# Function to Calculate Profit\n",
        "def calcProfit(salesList, costList):\n",
        "    # Ensure the sales and cost lists have the same length\n",
        "    if len(salesList) != len(costList):\n",
        "        raise ValueError(\"Sales and cost lists must have the same length.\")\n",
        "\n",
        "    # Calculate profit for each pair of sales and cost\n",
        "    profits = [sales - cost for sales, cost in zip(salesList, costList)]\n",
        "    return profits\n",
        "\n",
        "  # Example list of total sales and total cost\n",
        "salesList = [800, 100, 1500, 2500]\n",
        "costList = [600, 1100, 1200, 2100]\n",
        "\n",
        "  # Calculate profit for each pair of sales and cost\n",
        "profits = calcProfit(salesList, costList)\n",
        "\n",
        "# Display the results\n",
        "for i, profit in enumerate(profits):\n",
        "  print(f\"Profit/Loss for sale {i + 1}: ${profit}\")"
      ],
      "metadata": {
        "id": "ome6paWuyKhO",
        "colab": {
          "base_uri": "https://localhost:8080/"
        },
        "outputId": "9258864c-e8a6-40c1-905e-efd5569a8adf"
      },
      "execution_count": 13,
      "outputs": [
        {
          "output_type": "stream",
          "name": "stdout",
          "text": [
            "Profit/Loss for sale 1: $200\n",
            "Profit/Loss for sale 2: $-1000\n",
            "Profit/Loss for sale 3: $300\n",
            "Profit/Loss for sale 4: $400\n"
          ]
        }
      ]
    },
    {
      "cell_type": "markdown",
      "source": [
        "4. Calculate Tips for a Shift: from sales data for a specific shift, workers get tipped for the shift (2% of shift sales)."
      ],
      "metadata": {
        "id": "yISHfPqxjbJ4"
      }
    },
    {
      "cell_type": "code",
      "source": [
        "def calcShiftTips():\n",
        "  while True:\n",
        "    try:\n",
        "      shiftSales = float(input(\"Shift Total Sales: $\"))\n",
        "      tipsPercentage = 0.02\n",
        "\n",
        "      # Calculate tips for the shift\n",
        "      tips = shiftSales * tipsPercentage\n",
        "      print(f\"Tips for the Shift: ${tips}\")\n",
        "      break\n",
        "    except:\n",
        "      # if user doesn't input the required data type\n",
        "        print(\"Oops!  That was not a valid number.  Try again...\")"
      ],
      "metadata": {
        "id": "AectZNDbsVFT"
      },
      "execution_count": 9,
      "outputs": []
    },
    {
      "cell_type": "code",
      "source": [
        "calcShiftTips()"
      ],
      "metadata": {
        "colab": {
          "base_uri": "https://localhost:8080/"
        },
        "id": "B_817VRgUxBl",
        "outputId": "18ca0ec8-6383-4828-e876-6fdd82ae77eb"
      },
      "execution_count": 10,
      "outputs": [
        {
          "output_type": "stream",
          "name": "stdout",
          "text": [
            "Shift Total Sales: $25000\n",
            "Tips for the Shift: $500.0\n"
          ]
        }
      ]
    },
    {
      "cell_type": "markdown",
      "source": [
        "5. Calculate Total Tips for the Day: with sales data for morning and evening shifts, return total tips for the day (sum of tips from both shifts)."
      ],
      "metadata": {
        "id": "12zvEGzcrLhn"
      }
    },
    {
      "cell_type": "code",
      "source": [
        "def calcTotalTips():\n",
        "  while True:\n",
        "    try:\n",
        "      tipsPercentage = 0.02  # 2% tip rate\n",
        "\n",
        "      # Sales List for morning and evening shifts\n",
        "      morningShiftSales = float(input(\"Morning Shift Total Sales: $\"))\n",
        "      eveningShiftSales = float(input(\"Evening Shift Total Sales: $\"))\n",
        "\n",
        "      # calculate tips for each shift\n",
        "      morningShiftTips = (morningShiftSales) * tipsPercentage\n",
        "      eveningShiftTips = (eveningShiftSales) * tipsPercentage\n",
        "\n",
        "      # calculate Total Tips for the day\n",
        "      totalTips = morningShiftTips + eveningShiftTips\n",
        "\n",
        "      # Display the results\n",
        "      print(f\"Total Tips for the Day: ${totalTips}\")\n",
        "      break\n",
        "    except:\n",
        "      # if user doesn't input the required data type\n",
        "        print(\"Oops!  That was not a valid number.  Try again...\")"
      ],
      "metadata": {
        "id": "8gfs46_kkwLz"
      },
      "execution_count": 7,
      "outputs": []
    },
    {
      "cell_type": "code",
      "source": [
        "calcTotalTips()"
      ],
      "metadata": {
        "colab": {
          "base_uri": "https://localhost:8080/"
        },
        "id": "c3J3G_eaXH7I",
        "outputId": "e1c32f03-456d-4d58-e30c-ad573e966bd3"
      },
      "execution_count": 8,
      "outputs": [
        {
          "output_type": "stream",
          "name": "stdout",
          "text": [
            "Morning Shift Total Sales: $20000\n",
            "Evening Shift Total Sales: $dddd\n",
            "Oops!  That was not a valid number.  Try again...\n",
            "Morning Shift Total Sales: $20000\n",
            "Evening Shift Total Sales: $250000\n",
            "Total Tips for the Day: $5400.0\n"
          ]
        }
      ]
    },
    {
      "cell_type": "code",
      "source": [
        "runAutomation()"
      ],
      "metadata": {
        "colab": {
          "base_uri": "https://localhost:8080/"
        },
        "id": "ANJhipiUXXR3",
        "outputId": "5fa0b9a8-69f2-4c9c-ac76-5385a53b6595"
      },
      "execution_count": 25,
      "outputs": [
        {
          "name": "stdout",
          "output_type": "stream",
          "text": [
            "\n",
            "Sales Automation System\n",
            "1. Calculate Total Sales\n",
            "2. Calculate Worker's  Salary\n",
            "3. Calculate Shift Tips\n",
            "4. calculate Total Tips\n",
            "5. Exit\n",
            "Enter your choice (1-5): 5\n"
          ]
        }
      ]
    },
    {
      "cell_type": "code",
      "source": [],
      "metadata": {
        "id": "Zta_sXYhdsv5"
      },
      "execution_count": null,
      "outputs": []
    }
  ]
}